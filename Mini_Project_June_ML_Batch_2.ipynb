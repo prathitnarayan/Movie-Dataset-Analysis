{
  "nbformat": 4,
  "nbformat_minor": 0,
  "metadata": {
    "colab": {
      "name": "Mini Project June ML Batch 2.ipynb",
      "provenance": [],
      "collapsed_sections": [],
      "toc_visible": true
    },
    "kernelspec": {
      "name": "python3",
      "display_name": "Python 3"
    }
  },
  "cells": [
    {
      "cell_type": "markdown",
      "metadata": {
        "id": "0XZkwYyHY0nW"
      },
      "source": [
        "# Prathit Narayan Singh"
      ]
    },
    {
      "cell_type": "code",
      "metadata": {
        "id": "QFSDeaamatae",
        "colab": {
          "base_uri": "https://localhost:8080/",
          "height": 615
        },
        "outputId": "d99f7408-3a9b-4cf9-d5c9-e9e162fd15ec"
      },
      "source": [
        "import pandas as pd\n",
        "df = pd.read_csv(\"/content/movies.csv\")\n",
        "df.head()"
      ],
      "execution_count": null,
      "outputs": [
        {
          "output_type": "execute_result",
          "data": {
            "text/html": [
              "<div>\n",
              "<style scoped>\n",
              "    .dataframe tbody tr th:only-of-type {\n",
              "        vertical-align: middle;\n",
              "    }\n",
              "\n",
              "    .dataframe tbody tr th {\n",
              "        vertical-align: top;\n",
              "    }\n",
              "\n",
              "    .dataframe thead th {\n",
              "        text-align: right;\n",
              "    }\n",
              "</style>\n",
              "<table border=\"1\" class=\"dataframe\">\n",
              "  <thead>\n",
              "    <tr style=\"text-align: right;\">\n",
              "      <th></th>\n",
              "      <th>id</th>\n",
              "      <th>imdb_id</th>\n",
              "      <th>popularity</th>\n",
              "      <th>budget</th>\n",
              "      <th>revenue</th>\n",
              "      <th>original_title</th>\n",
              "      <th>cast</th>\n",
              "      <th>homepage</th>\n",
              "      <th>director</th>\n",
              "      <th>tagline</th>\n",
              "      <th>keywords</th>\n",
              "      <th>overview</th>\n",
              "      <th>runtime</th>\n",
              "      <th>genres</th>\n",
              "      <th>production_companies</th>\n",
              "      <th>release_date</th>\n",
              "      <th>vote_count</th>\n",
              "      <th>vote_average</th>\n",
              "      <th>release_year</th>\n",
              "      <th>budget_adj</th>\n",
              "      <th>revenue_adj</th>\n",
              "    </tr>\n",
              "  </thead>\n",
              "  <tbody>\n",
              "    <tr>\n",
              "      <th>0</th>\n",
              "      <td>135397</td>\n",
              "      <td>tt0369610</td>\n",
              "      <td>32.985763</td>\n",
              "      <td>150000000</td>\n",
              "      <td>1513528810</td>\n",
              "      <td>Jurassic World</td>\n",
              "      <td>Chris Pratt|Bryce Dallas Howard|Irrfan Khan|Vi...</td>\n",
              "      <td>http://www.jurassicworld.com/</td>\n",
              "      <td>Colin Trevorrow</td>\n",
              "      <td>The park is open.</td>\n",
              "      <td>monster|dna|tyrannosaurus rex|velociraptor|island</td>\n",
              "      <td>Twenty-two years after the events of Jurassic ...</td>\n",
              "      <td>124</td>\n",
              "      <td>Action|Adventure|Science Fiction|Thriller</td>\n",
              "      <td>Universal Studios|Amblin Entertainment|Legenda...</td>\n",
              "      <td>6/9/15</td>\n",
              "      <td>5562</td>\n",
              "      <td>6.5</td>\n",
              "      <td>2015</td>\n",
              "      <td>1.379999e+08</td>\n",
              "      <td>1.392446e+09</td>\n",
              "    </tr>\n",
              "    <tr>\n",
              "      <th>1</th>\n",
              "      <td>76341</td>\n",
              "      <td>tt1392190</td>\n",
              "      <td>28.419936</td>\n",
              "      <td>150000000</td>\n",
              "      <td>378436354</td>\n",
              "      <td>Mad Max: Fury Road</td>\n",
              "      <td>Tom Hardy|Charlize Theron|Hugh Keays-Byrne|Nic...</td>\n",
              "      <td>http://www.madmaxmovie.com/</td>\n",
              "      <td>George Miller</td>\n",
              "      <td>What a Lovely Day.</td>\n",
              "      <td>future|chase|post-apocalyptic|dystopia|australia</td>\n",
              "      <td>An apocalyptic story set in the furthest reach...</td>\n",
              "      <td>120</td>\n",
              "      <td>Action|Adventure|Science Fiction|Thriller</td>\n",
              "      <td>Village Roadshow Pictures|Kennedy Miller Produ...</td>\n",
              "      <td>5/13/15</td>\n",
              "      <td>6185</td>\n",
              "      <td>7.1</td>\n",
              "      <td>2015</td>\n",
              "      <td>1.379999e+08</td>\n",
              "      <td>3.481613e+08</td>\n",
              "    </tr>\n",
              "    <tr>\n",
              "      <th>2</th>\n",
              "      <td>262500</td>\n",
              "      <td>tt2908446</td>\n",
              "      <td>13.112507</td>\n",
              "      <td>110000000</td>\n",
              "      <td>295238201</td>\n",
              "      <td>Insurgent</td>\n",
              "      <td>Shailene Woodley|Theo James|Kate Winslet|Ansel...</td>\n",
              "      <td>http://www.thedivergentseries.movie/#insurgent</td>\n",
              "      <td>Robert Schwentke</td>\n",
              "      <td>One Choice Can Destroy You</td>\n",
              "      <td>based on novel|revolution|dystopia|sequel|dyst...</td>\n",
              "      <td>Beatrice Prior must confront her inner demons ...</td>\n",
              "      <td>119</td>\n",
              "      <td>Adventure|Science Fiction|Thriller</td>\n",
              "      <td>Summit Entertainment|Mandeville Films|Red Wago...</td>\n",
              "      <td>3/18/15</td>\n",
              "      <td>2480</td>\n",
              "      <td>6.3</td>\n",
              "      <td>2015</td>\n",
              "      <td>1.012000e+08</td>\n",
              "      <td>2.716190e+08</td>\n",
              "    </tr>\n",
              "    <tr>\n",
              "      <th>3</th>\n",
              "      <td>140607</td>\n",
              "      <td>tt2488496</td>\n",
              "      <td>11.173104</td>\n",
              "      <td>200000000</td>\n",
              "      <td>2068178225</td>\n",
              "      <td>Star Wars: The Force Awakens</td>\n",
              "      <td>Harrison Ford|Mark Hamill|Carrie Fisher|Adam D...</td>\n",
              "      <td>http://www.starwars.com/films/star-wars-episod...</td>\n",
              "      <td>J.J. Abrams</td>\n",
              "      <td>Every generation has a story.</td>\n",
              "      <td>android|spaceship|jedi|space opera|3d</td>\n",
              "      <td>Thirty years after defeating the Galactic Empi...</td>\n",
              "      <td>136</td>\n",
              "      <td>Action|Adventure|Science Fiction|Fantasy</td>\n",
              "      <td>Lucasfilm|Truenorth Productions|Bad Robot</td>\n",
              "      <td>12/15/15</td>\n",
              "      <td>5292</td>\n",
              "      <td>7.5</td>\n",
              "      <td>2015</td>\n",
              "      <td>1.839999e+08</td>\n",
              "      <td>1.902723e+09</td>\n",
              "    </tr>\n",
              "    <tr>\n",
              "      <th>4</th>\n",
              "      <td>168259</td>\n",
              "      <td>tt2820852</td>\n",
              "      <td>9.335014</td>\n",
              "      <td>190000000</td>\n",
              "      <td>1506249360</td>\n",
              "      <td>Furious 7</td>\n",
              "      <td>Vin Diesel|Paul Walker|Jason Statham|Michelle ...</td>\n",
              "      <td>http://www.furious7.com/</td>\n",
              "      <td>James Wan</td>\n",
              "      <td>Vengeance Hits Home</td>\n",
              "      <td>car race|speed|revenge|suspense|car</td>\n",
              "      <td>Deckard Shaw seeks revenge against Dominic Tor...</td>\n",
              "      <td>137</td>\n",
              "      <td>Action|Crime|Thriller</td>\n",
              "      <td>Universal Pictures|Original Film|Media Rights ...</td>\n",
              "      <td>4/1/15</td>\n",
              "      <td>2947</td>\n",
              "      <td>7.3</td>\n",
              "      <td>2015</td>\n",
              "      <td>1.747999e+08</td>\n",
              "      <td>1.385749e+09</td>\n",
              "    </tr>\n",
              "  </tbody>\n",
              "</table>\n",
              "</div>"
            ],
            "text/plain": [
              "       id    imdb_id  popularity  ...  release_year    budget_adj   revenue_adj\n",
              "0  135397  tt0369610   32.985763  ...          2015  1.379999e+08  1.392446e+09\n",
              "1   76341  tt1392190   28.419936  ...          2015  1.379999e+08  3.481613e+08\n",
              "2  262500  tt2908446   13.112507  ...          2015  1.012000e+08  2.716190e+08\n",
              "3  140607  tt2488496   11.173104  ...          2015  1.839999e+08  1.902723e+09\n",
              "4  168259  tt2820852    9.335014  ...          2015  1.747999e+08  1.385749e+09\n",
              "\n",
              "[5 rows x 21 columns]"
            ]
          },
          "metadata": {
            "tags": []
          },
          "execution_count": 2
        }
      ]
    },
    {
      "cell_type": "code",
      "metadata": {
        "id": "AiV-IZVrie7Q",
        "colab": {
          "base_uri": "https://localhost:8080/",
          "height": 493
        },
        "outputId": "394b93f7-6fb9-42bd-f97f-ed828ff22ea2"
      },
      "source": [
        "df.info()"
      ],
      "execution_count": null,
      "outputs": [
        {
          "output_type": "stream",
          "text": [
            "<class 'pandas.core.frame.DataFrame'>\n",
            "RangeIndex: 10866 entries, 0 to 10865\n",
            "Data columns (total 21 columns):\n",
            " #   Column                Non-Null Count  Dtype  \n",
            "---  ------                --------------  -----  \n",
            " 0   id                    10866 non-null  int64  \n",
            " 1   imdb_id               10856 non-null  object \n",
            " 2   popularity            10866 non-null  float64\n",
            " 3   budget                10866 non-null  int64  \n",
            " 4   revenue               10866 non-null  int64  \n",
            " 5   original_title        10866 non-null  object \n",
            " 6   cast                  10790 non-null  object \n",
            " 7   homepage              2936 non-null   object \n",
            " 8   director              10822 non-null  object \n",
            " 9   tagline               8042 non-null   object \n",
            " 10  keywords              9373 non-null   object \n",
            " 11  overview              10862 non-null  object \n",
            " 12  runtime               10866 non-null  int64  \n",
            " 13  genres                10843 non-null  object \n",
            " 14  production_companies  9836 non-null   object \n",
            " 15  release_date          10866 non-null  object \n",
            " 16  vote_count            10866 non-null  int64  \n",
            " 17  vote_average          10866 non-null  float64\n",
            " 18  release_year          10866 non-null  int64  \n",
            " 19  budget_adj            10866 non-null  float64\n",
            " 20  revenue_adj           10866 non-null  float64\n",
            "dtypes: float64(4), int64(6), object(11)\n",
            "memory usage: 1.7+ MB\n"
          ],
          "name": "stdout"
        }
      ]
    },
    {
      "cell_type": "code",
      "metadata": {
        "id": "zEpovRzsCMsI",
        "colab": {
          "base_uri": "https://localhost:8080/",
          "height": 419
        },
        "outputId": "bb525d1b-27ea-4a48-d63a-9c5b7d86910c"
      },
      "source": [
        "df[['popularity','budget','revenue', 'original_title','runtime', 'genres','vote_count','vote_average','release_year']]"
      ],
      "execution_count": null,
      "outputs": [
        {
          "output_type": "execute_result",
          "data": {
            "text/html": [
              "<div>\n",
              "<style scoped>\n",
              "    .dataframe tbody tr th:only-of-type {\n",
              "        vertical-align: middle;\n",
              "    }\n",
              "\n",
              "    .dataframe tbody tr th {\n",
              "        vertical-align: top;\n",
              "    }\n",
              "\n",
              "    .dataframe thead th {\n",
              "        text-align: right;\n",
              "    }\n",
              "</style>\n",
              "<table border=\"1\" class=\"dataframe\">\n",
              "  <thead>\n",
              "    <tr style=\"text-align: right;\">\n",
              "      <th></th>\n",
              "      <th>popularity</th>\n",
              "      <th>budget</th>\n",
              "      <th>revenue</th>\n",
              "      <th>original_title</th>\n",
              "      <th>runtime</th>\n",
              "      <th>genres</th>\n",
              "      <th>vote_count</th>\n",
              "      <th>vote_average</th>\n",
              "      <th>release_year</th>\n",
              "    </tr>\n",
              "  </thead>\n",
              "  <tbody>\n",
              "    <tr>\n",
              "      <th>0</th>\n",
              "      <td>32.985763</td>\n",
              "      <td>150000000</td>\n",
              "      <td>1513528810</td>\n",
              "      <td>Jurassic World</td>\n",
              "      <td>124</td>\n",
              "      <td>Action|Adventure|Science Fiction|Thriller</td>\n",
              "      <td>5562</td>\n",
              "      <td>6.5</td>\n",
              "      <td>2015</td>\n",
              "    </tr>\n",
              "    <tr>\n",
              "      <th>1</th>\n",
              "      <td>28.419936</td>\n",
              "      <td>150000000</td>\n",
              "      <td>378436354</td>\n",
              "      <td>Mad Max: Fury Road</td>\n",
              "      <td>120</td>\n",
              "      <td>Action|Adventure|Science Fiction|Thriller</td>\n",
              "      <td>6185</td>\n",
              "      <td>7.1</td>\n",
              "      <td>2015</td>\n",
              "    </tr>\n",
              "    <tr>\n",
              "      <th>2</th>\n",
              "      <td>13.112507</td>\n",
              "      <td>110000000</td>\n",
              "      <td>295238201</td>\n",
              "      <td>Insurgent</td>\n",
              "      <td>119</td>\n",
              "      <td>Adventure|Science Fiction|Thriller</td>\n",
              "      <td>2480</td>\n",
              "      <td>6.3</td>\n",
              "      <td>2015</td>\n",
              "    </tr>\n",
              "    <tr>\n",
              "      <th>3</th>\n",
              "      <td>11.173104</td>\n",
              "      <td>200000000</td>\n",
              "      <td>2068178225</td>\n",
              "      <td>Star Wars: The Force Awakens</td>\n",
              "      <td>136</td>\n",
              "      <td>Action|Adventure|Science Fiction|Fantasy</td>\n",
              "      <td>5292</td>\n",
              "      <td>7.5</td>\n",
              "      <td>2015</td>\n",
              "    </tr>\n",
              "    <tr>\n",
              "      <th>4</th>\n",
              "      <td>9.335014</td>\n",
              "      <td>190000000</td>\n",
              "      <td>1506249360</td>\n",
              "      <td>Furious 7</td>\n",
              "      <td>137</td>\n",
              "      <td>Action|Crime|Thriller</td>\n",
              "      <td>2947</td>\n",
              "      <td>7.3</td>\n",
              "      <td>2015</td>\n",
              "    </tr>\n",
              "    <tr>\n",
              "      <th>...</th>\n",
              "      <td>...</td>\n",
              "      <td>...</td>\n",
              "      <td>...</td>\n",
              "      <td>...</td>\n",
              "      <td>...</td>\n",
              "      <td>...</td>\n",
              "      <td>...</td>\n",
              "      <td>...</td>\n",
              "      <td>...</td>\n",
              "    </tr>\n",
              "    <tr>\n",
              "      <th>10861</th>\n",
              "      <td>0.080598</td>\n",
              "      <td>0</td>\n",
              "      <td>0</td>\n",
              "      <td>The Endless Summer</td>\n",
              "      <td>95</td>\n",
              "      <td>Documentary</td>\n",
              "      <td>11</td>\n",
              "      <td>7.4</td>\n",
              "      <td>1966</td>\n",
              "    </tr>\n",
              "    <tr>\n",
              "      <th>10862</th>\n",
              "      <td>0.065543</td>\n",
              "      <td>0</td>\n",
              "      <td>0</td>\n",
              "      <td>Grand Prix</td>\n",
              "      <td>176</td>\n",
              "      <td>Action|Adventure|Drama</td>\n",
              "      <td>20</td>\n",
              "      <td>5.7</td>\n",
              "      <td>1966</td>\n",
              "    </tr>\n",
              "    <tr>\n",
              "      <th>10863</th>\n",
              "      <td>0.065141</td>\n",
              "      <td>0</td>\n",
              "      <td>0</td>\n",
              "      <td>Beregis Avtomobilya</td>\n",
              "      <td>94</td>\n",
              "      <td>Mystery|Comedy</td>\n",
              "      <td>11</td>\n",
              "      <td>6.5</td>\n",
              "      <td>1966</td>\n",
              "    </tr>\n",
              "    <tr>\n",
              "      <th>10864</th>\n",
              "      <td>0.064317</td>\n",
              "      <td>0</td>\n",
              "      <td>0</td>\n",
              "      <td>What's Up, Tiger Lily?</td>\n",
              "      <td>80</td>\n",
              "      <td>Action|Comedy</td>\n",
              "      <td>22</td>\n",
              "      <td>5.4</td>\n",
              "      <td>1966</td>\n",
              "    </tr>\n",
              "    <tr>\n",
              "      <th>10865</th>\n",
              "      <td>0.035919</td>\n",
              "      <td>19000</td>\n",
              "      <td>0</td>\n",
              "      <td>Manos: The Hands of Fate</td>\n",
              "      <td>74</td>\n",
              "      <td>Horror</td>\n",
              "      <td>15</td>\n",
              "      <td>1.5</td>\n",
              "      <td>1966</td>\n",
              "    </tr>\n",
              "  </tbody>\n",
              "</table>\n",
              "<p>10866 rows × 9 columns</p>\n",
              "</div>"
            ],
            "text/plain": [
              "       popularity     budget  ...  vote_average release_year\n",
              "0       32.985763  150000000  ...           6.5         2015\n",
              "1       28.419936  150000000  ...           7.1         2015\n",
              "2       13.112507  110000000  ...           6.3         2015\n",
              "3       11.173104  200000000  ...           7.5         2015\n",
              "4        9.335014  190000000  ...           7.3         2015\n",
              "...           ...        ...  ...           ...          ...\n",
              "10861    0.080598          0  ...           7.4         1966\n",
              "10862    0.065543          0  ...           5.7         1966\n",
              "10863    0.065141          0  ...           6.5         1966\n",
              "10864    0.064317          0  ...           5.4         1966\n",
              "10865    0.035919      19000  ...           1.5         1966\n",
              "\n",
              "[10866 rows x 9 columns]"
            ]
          },
          "metadata": {
            "tags": []
          },
          "execution_count": 69
        }
      ]
    },
    {
      "cell_type": "markdown",
      "metadata": {
        "id": "Fewyg-FqHFls"
      },
      "source": [
        "Question 1-Which are the movies with the third lowest and third highest budget?"
      ]
    },
    {
      "cell_type": "markdown",
      "metadata": {
        "id": "2Iwghn_DYsEz"
      },
      "source": [
        "Ans-"
      ]
    },
    {
      "cell_type": "code",
      "metadata": {
        "id": "xNcr_SjgEHHN",
        "colab": {
          "base_uri": "https://localhost:8080/",
          "height": 80
        },
        "outputId": "70ee1cf6-5caa-4643-96ba-4e236ced6678"
      },
      "source": [
        "moviedata=df.drop_duplicates(subset=['budget'],keep=\"first\")\n",
        "l=moviedata['budget'].values\n",
        "m=df[df['budget']==sorted(l)[2]]\n",
        "moviedata.nsmallest(3,'budget')\n",
        "m[['original_title','budget']]"
      ],
      "execution_count": null,
      "outputs": [
        {
          "output_type": "execute_result",
          "data": {
            "text/html": [
              "<div>\n",
              "<style scoped>\n",
              "    .dataframe tbody tr th:only-of-type {\n",
              "        vertical-align: middle;\n",
              "    }\n",
              "\n",
              "    .dataframe tbody tr th {\n",
              "        vertical-align: top;\n",
              "    }\n",
              "\n",
              "    .dataframe thead th {\n",
              "        text-align: right;\n",
              "    }\n",
              "</style>\n",
              "<table border=\"1\" class=\"dataframe\">\n",
              "  <thead>\n",
              "    <tr style=\"text-align: right;\">\n",
              "      <th></th>\n",
              "      <th>original_title</th>\n",
              "      <th>budget</th>\n",
              "    </tr>\n",
              "  </thead>\n",
              "  <tbody>\n",
              "    <tr>\n",
              "      <th>8944</th>\n",
              "      <td>Death Wish 2</td>\n",
              "      <td>2</td>\n",
              "    </tr>\n",
              "  </tbody>\n",
              "</table>\n",
              "</div>"
            ],
            "text/plain": [
              "     original_title  budget\n",
              "8944   Death Wish 2       2"
            ]
          },
          "metadata": {
            "tags": []
          },
          "execution_count": 70
        }
      ]
    },
    {
      "cell_type": "code",
      "metadata": {
        "id": "OANBijK8DYZn",
        "colab": {
          "base_uri": "https://localhost:8080/",
          "height": 80
        },
        "outputId": "5a78868a-409f-495e-ec21-60498325600c"
      },
      "source": [
        "n=df[df['budget']==sorted(l)[-3]]\n",
        "df.nlargest(3, 'budget')\n",
        "n[['original_title','budget']]"
      ],
      "execution_count": null,
      "outputs": [
        {
          "output_type": "execute_result",
          "data": {
            "text/html": [
              "<div>\n",
              "<style scoped>\n",
              "    .dataframe tbody tr th:only-of-type {\n",
              "        vertical-align: middle;\n",
              "    }\n",
              "\n",
              "    .dataframe tbody tr th {\n",
              "        vertical-align: top;\n",
              "    }\n",
              "\n",
              "    .dataframe thead th {\n",
              "        text-align: right;\n",
              "    }\n",
              "</style>\n",
              "<table border=\"1\" class=\"dataframe\">\n",
              "  <thead>\n",
              "    <tr style=\"text-align: right;\">\n",
              "      <th></th>\n",
              "      <th>original_title</th>\n",
              "      <th>budget</th>\n",
              "    </tr>\n",
              "  </thead>\n",
              "  <tbody>\n",
              "    <tr>\n",
              "      <th>7387</th>\n",
              "      <td>Pirates of the Caribbean: At World's End</td>\n",
              "      <td>300000000</td>\n",
              "    </tr>\n",
              "  </tbody>\n",
              "</table>\n",
              "</div>"
            ],
            "text/plain": [
              "                                original_title     budget\n",
              "7387  Pirates of the Caribbean: At World's End  300000000"
            ]
          },
          "metadata": {
            "tags": []
          },
          "execution_count": 71
        }
      ]
    },
    {
      "cell_type": "markdown",
      "metadata": {
        "id": "h4ZUkI_jcB_w"
      },
      "source": [
        "Question 2-What is the average number of words in movie titles between the year 2000-2005?"
      ]
    },
    {
      "cell_type": "markdown",
      "metadata": {
        "id": "UrcXHxsVYlXP"
      },
      "source": [
        "Ans-"
      ]
    },
    {
      "cell_type": "code",
      "metadata": {
        "id": "h22gcYW4CEcz",
        "colab": {
          "base_uri": "https://localhost:8080/",
          "height": 182
        },
        "outputId": "34da2ac4-100a-4522-e1d0-0dd2eeef7c2a"
      },
      "source": [
        "w = df[(df['release_year'] >=2000) & (df['release_year'] <=2005)] \n",
        "w"
      ],
      "execution_count": null,
      "outputs": [
        {
          "output_type": "error",
          "ename": "NameError",
          "evalue": "ignored",
          "traceback": [
            "\u001b[0;31m---------------------------------------------------------------------------\u001b[0m",
            "\u001b[0;31mNameError\u001b[0m                                 Traceback (most recent call last)",
            "\u001b[0;32m<ipython-input-1-2c82df39bedb>\u001b[0m in \u001b[0;36m<module>\u001b[0;34m()\u001b[0m\n\u001b[0;32m----> 1\u001b[0;31m \u001b[0mw\u001b[0m \u001b[0;34m=\u001b[0m \u001b[0mdf\u001b[0m\u001b[0;34m[\u001b[0m\u001b[0;34m(\u001b[0m\u001b[0mdf\u001b[0m\u001b[0;34m[\u001b[0m\u001b[0;34m'release_year'\u001b[0m\u001b[0;34m]\u001b[0m \u001b[0;34m>=\u001b[0m\u001b[0;36m2000\u001b[0m\u001b[0;34m)\u001b[0m \u001b[0;34m&\u001b[0m \u001b[0;34m(\u001b[0m\u001b[0mdf\u001b[0m\u001b[0;34m[\u001b[0m\u001b[0;34m'release_year'\u001b[0m\u001b[0;34m]\u001b[0m \u001b[0;34m<=\u001b[0m\u001b[0;36m2005\u001b[0m\u001b[0;34m)\u001b[0m\u001b[0;34m]\u001b[0m\u001b[0;34m\u001b[0m\u001b[0;34m\u001b[0m\u001b[0m\n\u001b[0m\u001b[1;32m      2\u001b[0m \u001b[0mw\u001b[0m\u001b[0;34m\u001b[0m\u001b[0;34m\u001b[0m\u001b[0m\n",
            "\u001b[0;31mNameError\u001b[0m: name 'df' is not defined"
          ]
        }
      ]
    },
    {
      "cell_type": "code",
      "metadata": {
        "id": "UElfXLUEaupP",
        "colab": {
          "base_uri": "https://localhost:8080/",
          "height": 34
        },
        "outputId": "36ed91e9-07ce-4b07-ab33-a528bd04411a"
      },
      "source": [
        "sum=0\n",
        "a=w['original_title'].values\n",
        "for i in a:\n",
        "    sum=sum+len(i)\n",
        "        \n",
        "print(\"Average number of words in movie titles between the year 2000-2005 is: \",sum/len(a)) "
      ],
      "execution_count": null,
      "outputs": [
        {
          "output_type": "stream",
          "text": [
            "Average number of words in movie titles between the year 2000-2005 is:  16.163604030823947\n"
          ],
          "name": "stdout"
        }
      ]
    },
    {
      "cell_type": "markdown",
      "metadata": {
        "id": "-MpYQSevcmme"
      },
      "source": [
        "Question 3-What is the most common Genre for Vin Diesel & Emma Watson movies?*"
      ]
    },
    {
      "cell_type": "markdown",
      "metadata": {
        "id": "A7ouxRohYixI"
      },
      "source": [
        "Ans-"
      ]
    },
    {
      "cell_type": "code",
      "metadata": {
        "id": "29w65NhNg4QZ"
      },
      "source": [
        "#pd=df['cast'].values\n",
        "#pd"
      ],
      "execution_count": null,
      "outputs": []
    },
    {
      "cell_type": "markdown",
      "metadata": {
        "id": "Dy0ghytwMNFg"
      },
      "source": [
        "Question 4-Which are the movies with most and least earned revenue?"
      ]
    },
    {
      "cell_type": "markdown",
      "metadata": {
        "id": "tV_2uyJRYf_b"
      },
      "source": [
        "Ans-"
      ]
    },
    {
      "cell_type": "code",
      "metadata": {
        "id": "Wjo3uLDEMMfR",
        "colab": {
          "base_uri": "https://localhost:8080/",
          "height": 80
        },
        "outputId": "a5b4a787-5013-4cd2-d31a-409a7341a210"
      },
      "source": [
        "moviedf=df.drop_duplicates(subset=['revenue'],keep=\"first\")\n",
        "p=moviedf.nsmallest(1,'revenue')\n",
        "p[['original_title','revenue']]"
      ],
      "execution_count": null,
      "outputs": [
        {
          "output_type": "execute_result",
          "data": {
            "text/html": [
              "<div>\n",
              "<style scoped>\n",
              "    .dataframe tbody tr th:only-of-type {\n",
              "        vertical-align: middle;\n",
              "    }\n",
              "\n",
              "    .dataframe tbody tr th {\n",
              "        vertical-align: top;\n",
              "    }\n",
              "\n",
              "    .dataframe thead th {\n",
              "        text-align: right;\n",
              "    }\n",
              "</style>\n",
              "<table border=\"1\" class=\"dataframe\">\n",
              "  <thead>\n",
              "    <tr style=\"text-align: right;\">\n",
              "      <th></th>\n",
              "      <th>original_title</th>\n",
              "      <th>revenue</th>\n",
              "    </tr>\n",
              "  </thead>\n",
              "  <tbody>\n",
              "    <tr>\n",
              "      <th>48</th>\n",
              "      <td>Wild Card</td>\n",
              "      <td>0</td>\n",
              "    </tr>\n",
              "  </tbody>\n",
              "</table>\n",
              "</div>"
            ],
            "text/plain": [
              "   original_title  revenue\n",
              "48      Wild Card        0"
            ]
          },
          "metadata": {
            "tags": []
          },
          "execution_count": 75
        }
      ]
    },
    {
      "cell_type": "code",
      "metadata": {
        "id": "qvQ0wvhALUKj",
        "colab": {
          "base_uri": "https://localhost:8080/",
          "height": 80
        },
        "outputId": "b6a01c76-c041-4e18-f93c-8200a3f031e3"
      },
      "source": [
        "k=moviedf.nlargest(1,'revenue')\n",
        "k[['original_title','revenue']]"
      ],
      "execution_count": null,
      "outputs": [
        {
          "output_type": "execute_result",
          "data": {
            "text/html": [
              "<div>\n",
              "<style scoped>\n",
              "    .dataframe tbody tr th:only-of-type {\n",
              "        vertical-align: middle;\n",
              "    }\n",
              "\n",
              "    .dataframe tbody tr th {\n",
              "        vertical-align: top;\n",
              "    }\n",
              "\n",
              "    .dataframe thead th {\n",
              "        text-align: right;\n",
              "    }\n",
              "</style>\n",
              "<table border=\"1\" class=\"dataframe\">\n",
              "  <thead>\n",
              "    <tr style=\"text-align: right;\">\n",
              "      <th></th>\n",
              "      <th>original_title</th>\n",
              "      <th>revenue</th>\n",
              "    </tr>\n",
              "  </thead>\n",
              "  <tbody>\n",
              "    <tr>\n",
              "      <th>1386</th>\n",
              "      <td>Avatar</td>\n",
              "      <td>2781505847</td>\n",
              "    </tr>\n",
              "  </tbody>\n",
              "</table>\n",
              "</div>"
            ],
            "text/plain": [
              "     original_title     revenue\n",
              "1386         Avatar  2781505847"
            ]
          },
          "metadata": {
            "tags": []
          },
          "execution_count": 76
        }
      ]
    },
    {
      "cell_type": "markdown",
      "metadata": {
        "id": "YxHWze0vcMJN"
      },
      "source": [
        "Question 5-What is the average runtime of movies in the year 2006?"
      ]
    },
    {
      "cell_type": "markdown",
      "metadata": {
        "id": "4HCU5M2XTdXp"
      },
      "source": [
        "Ans:-"
      ]
    },
    {
      "cell_type": "code",
      "metadata": {
        "id": "KsUgu7EqjMJY",
        "colab": {
          "base_uri": "https://localhost:8080/",
          "height": 1000
        },
        "outputId": "4306c48f-4a91-4573-835f-f4ee33bf70a4"
      },
      "source": [
        "releas_year=df[df['release_year']==2006]\n",
        "releas_year"
      ],
      "execution_count": null,
      "outputs": [
        {
          "output_type": "execute_result",
          "data": {
            "text/html": [
              "<div>\n",
              "<style scoped>\n",
              "    .dataframe tbody tr th:only-of-type {\n",
              "        vertical-align: middle;\n",
              "    }\n",
              "\n",
              "    .dataframe tbody tr th {\n",
              "        vertical-align: top;\n",
              "    }\n",
              "\n",
              "    .dataframe thead th {\n",
              "        text-align: right;\n",
              "    }\n",
              "</style>\n",
              "<table border=\"1\" class=\"dataframe\">\n",
              "  <thead>\n",
              "    <tr style=\"text-align: right;\">\n",
              "      <th></th>\n",
              "      <th>id</th>\n",
              "      <th>imdb_id</th>\n",
              "      <th>popularity</th>\n",
              "      <th>budget</th>\n",
              "      <th>revenue</th>\n",
              "      <th>original_title</th>\n",
              "      <th>cast</th>\n",
              "      <th>homepage</th>\n",
              "      <th>director</th>\n",
              "      <th>tagline</th>\n",
              "      <th>keywords</th>\n",
              "      <th>overview</th>\n",
              "      <th>runtime</th>\n",
              "      <th>genres</th>\n",
              "      <th>production_companies</th>\n",
              "      <th>release_date</th>\n",
              "      <th>vote_count</th>\n",
              "      <th>vote_average</th>\n",
              "      <th>release_year</th>\n",
              "      <th>budget_adj</th>\n",
              "      <th>revenue_adj</th>\n",
              "    </tr>\n",
              "  </thead>\n",
              "  <tbody>\n",
              "    <tr>\n",
              "      <th>6554</th>\n",
              "      <td>834</td>\n",
              "      <td>tt0401855</td>\n",
              "      <td>5.838503</td>\n",
              "      <td>50000000</td>\n",
              "      <td>111340801</td>\n",
              "      <td>Underworld: Evolution</td>\n",
              "      <td>Kate Beckinsale|Scott Speedman|Tony Curran|Sha...</td>\n",
              "      <td>http://www.sonypictures.com/movies/underworlda...</td>\n",
              "      <td>Len Wiseman</td>\n",
              "      <td>My God. Brother, what have you done?</td>\n",
              "      <td>budapest|key|light|werewolf|evolution</td>\n",
              "      <td>As the war between the vampires and the Lycans...</td>\n",
              "      <td>106</td>\n",
              "      <td>Fantasy|Action|Science Fiction|Thriller</td>\n",
              "      <td>Lakeshore Entertainment|Screen Gems</td>\n",
              "      <td>1/12/06</td>\n",
              "      <td>1015</td>\n",
              "      <td>6.3</td>\n",
              "      <td>2006</td>\n",
              "      <td>5.408346e+07</td>\n",
              "      <td>1.204339e+08</td>\n",
              "    </tr>\n",
              "    <tr>\n",
              "      <th>6555</th>\n",
              "      <td>58</td>\n",
              "      <td>tt0383574</td>\n",
              "      <td>4.205992</td>\n",
              "      <td>200000000</td>\n",
              "      <td>1065659812</td>\n",
              "      <td>Pirates of the Caribbean: Dead Man's Chest</td>\n",
              "      <td>Johnny Depp|Orlando Bloom|Keira Knightley|Bill...</td>\n",
              "      <td>http://disney.go.com/disneypictures/pirates/</td>\n",
              "      <td>Gore Verbinski</td>\n",
              "      <td>Jack is back!</td>\n",
              "      <td>witch|fortune teller|bondage|exotic island|mon...</td>\n",
              "      <td>The high-seas adventures of happy-go-lucky tro...</td>\n",
              "      <td>151</td>\n",
              "      <td>Adventure|Fantasy|Action</td>\n",
              "      <td>Walt Disney Pictures|Jerry Bruckheimer Films|S...</td>\n",
              "      <td>6/20/06</td>\n",
              "      <td>3181</td>\n",
              "      <td>6.8</td>\n",
              "      <td>2006</td>\n",
              "      <td>2.163338e+08</td>\n",
              "      <td>1.152691e+09</td>\n",
              "    </tr>\n",
              "    <tr>\n",
              "      <th>6556</th>\n",
              "      <td>920</td>\n",
              "      <td>tt0317219</td>\n",
              "      <td>3.941265</td>\n",
              "      <td>120000000</td>\n",
              "      <td>461983149</td>\n",
              "      <td>Cars</td>\n",
              "      <td>Owen Wilson|Paul Newman|Bonnie Hunt|Larry the ...</td>\n",
              "      <td>http://disney.go.com/disneyvideos/animatedfilm...</td>\n",
              "      <td>John Lasseter|Joe Ranft</td>\n",
              "      <td>Ahhh... it's got that new movie smell.</td>\n",
              "      <td>car race|car journey|village and town|road|auto</td>\n",
              "      <td>Lightning McQueen, a hotshot rookie race car d...</td>\n",
              "      <td>117</td>\n",
              "      <td>Animation|Adventure|Comedy|Family</td>\n",
              "      <td>Walt Disney Pictures|Pixar Animation Studios</td>\n",
              "      <td>6/8/06</td>\n",
              "      <td>2336</td>\n",
              "      <td>6.4</td>\n",
              "      <td>2006</td>\n",
              "      <td>1.298003e+08</td>\n",
              "      <td>4.997129e+08</td>\n",
              "    </tr>\n",
              "    <tr>\n",
              "      <th>6557</th>\n",
              "      <td>36557</td>\n",
              "      <td>tt0381061</td>\n",
              "      <td>3.789580</td>\n",
              "      <td>150000000</td>\n",
              "      <td>599045960</td>\n",
              "      <td>Casino Royale</td>\n",
              "      <td>Daniel Craig|Eva Green|Mads Mikkelsen|Judi Den...</td>\n",
              "      <td>http://www.mgm.com/#/our-titles/233/Casino-Roy...</td>\n",
              "      <td>Martin Campbell</td>\n",
              "      <td>Everyone has a past. Every legend has a beginn...</td>\n",
              "      <td>italy|poker|casino|terrorist|banker</td>\n",
              "      <td>Le Chiffre, a banker to the world's terrorists...</td>\n",
              "      <td>144</td>\n",
              "      <td>Adventure|Action|Thriller</td>\n",
              "      <td>Eon Productions</td>\n",
              "      <td>11/14/06</td>\n",
              "      <td>2738</td>\n",
              "      <td>7.1</td>\n",
              "      <td>2006</td>\n",
              "      <td>1.622504e+08</td>\n",
              "      <td>6.479695e+08</td>\n",
              "    </tr>\n",
              "    <tr>\n",
              "      <th>6558</th>\n",
              "      <td>591</td>\n",
              "      <td>tt0382625</td>\n",
              "      <td>3.655536</td>\n",
              "      <td>125000000</td>\n",
              "      <td>758239851</td>\n",
              "      <td>The Da Vinci Code</td>\n",
              "      <td>Tom Hanks|Audrey Tautou|Ian McKellen|Paul Bett...</td>\n",
              "      <td>http://www.sonypictures.com/homevideo/thedavin...</td>\n",
              "      <td>Ron Howard</td>\n",
              "      <td>So Dark The Con Of Man</td>\n",
              "      <td>paris|holy grail|christianity|monk|zurich</td>\n",
              "      <td>When the curator of the Louvre is found murder...</td>\n",
              "      <td>149</td>\n",
              "      <td>Thriller|Mystery</td>\n",
              "      <td>Columbia Pictures|Imagine Entertainment|Skylar...</td>\n",
              "      <td>5/17/06</td>\n",
              "      <td>1585</td>\n",
              "      <td>6.4</td>\n",
              "      <td>2006</td>\n",
              "      <td>1.352086e+08</td>\n",
              "      <td>8.201647e+08</td>\n",
              "    </tr>\n",
              "    <tr>\n",
              "      <th>...</th>\n",
              "      <td>...</td>\n",
              "      <td>...</td>\n",
              "      <td>...</td>\n",
              "      <td>...</td>\n",
              "      <td>...</td>\n",
              "      <td>...</td>\n",
              "      <td>...</td>\n",
              "      <td>...</td>\n",
              "      <td>...</td>\n",
              "      <td>...</td>\n",
              "      <td>...</td>\n",
              "      <td>...</td>\n",
              "      <td>...</td>\n",
              "      <td>...</td>\n",
              "      <td>...</td>\n",
              "      <td>...</td>\n",
              "      <td>...</td>\n",
              "      <td>...</td>\n",
              "      <td>...</td>\n",
              "      <td>...</td>\n",
              "      <td>...</td>\n",
              "    </tr>\n",
              "    <tr>\n",
              "      <th>6957</th>\n",
              "      <td>286</td>\n",
              "      <td>tt0853060</td>\n",
              "      <td>0.013578</td>\n",
              "      <td>0</td>\n",
              "      <td>0</td>\n",
              "      <td>Deutschland. Ein SommermÃ¤rchen</td>\n",
              "      <td>Jens Lehmann|Arne Friedrich|Philipp Lahm|Torst...</td>\n",
              "      <td>NaN</td>\n",
              "      <td>SÃ¶nke Wortmann</td>\n",
              "      <td>NaN</td>\n",
              "      <td>NaN</td>\n",
              "      <td>A documentary of the German National soccer te...</td>\n",
              "      <td>107</td>\n",
              "      <td>Documentary</td>\n",
              "      <td>Little Shark Entertainment GmbH</td>\n",
              "      <td>10/3/06</td>\n",
              "      <td>10</td>\n",
              "      <td>7.3</td>\n",
              "      <td>2006</td>\n",
              "      <td>0.000000e+00</td>\n",
              "      <td>0.000000e+00</td>\n",
              "    </tr>\n",
              "    <tr>\n",
              "      <th>6958</th>\n",
              "      <td>33753</td>\n",
              "      <td>tt0457936</td>\n",
              "      <td>0.012132</td>\n",
              "      <td>0</td>\n",
              "      <td>0</td>\n",
              "      <td>Hell</td>\n",
              "      <td>Nicolas Duvauchelle|Christiane Millet|Didier S...</td>\n",
              "      <td>NaN</td>\n",
              "      <td>Bruno Chiche</td>\n",
              "      <td>NaN</td>\n",
              "      <td>NaN</td>\n",
              "      <td>No overview found.</td>\n",
              "      <td>100</td>\n",
              "      <td>Drama</td>\n",
              "      <td>NaN</td>\n",
              "      <td>3/1/06</td>\n",
              "      <td>13</td>\n",
              "      <td>6.3</td>\n",
              "      <td>2006</td>\n",
              "      <td>0.000000e+00</td>\n",
              "      <td>0.000000e+00</td>\n",
              "    </tr>\n",
              "    <tr>\n",
              "      <th>6959</th>\n",
              "      <td>24115</td>\n",
              "      <td>tt0462346</td>\n",
              "      <td>0.153217</td>\n",
              "      <td>0</td>\n",
              "      <td>13022756</td>\n",
              "      <td>How to Eat Fried Worms</td>\n",
              "      <td>Luke Benward|Hallie Kate Eisenberg|Adam Hicks|...</td>\n",
              "      <td>NaN</td>\n",
              "      <td>Bob Dolman</td>\n",
              "      <td>NaN</td>\n",
              "      <td>NaN</td>\n",
              "      <td>During the first day of his new school year, a...</td>\n",
              "      <td>98</td>\n",
              "      <td>Comedy|Drama|Family</td>\n",
              "      <td>New Line Cinema</td>\n",
              "      <td>1/1/06</td>\n",
              "      <td>11</td>\n",
              "      <td>5.7</td>\n",
              "      <td>2006</td>\n",
              "      <td>0.000000e+00</td>\n",
              "      <td>1.408631e+07</td>\n",
              "    </tr>\n",
              "    <tr>\n",
              "      <th>6960</th>\n",
              "      <td>20605</td>\n",
              "      <td>tt0821470</td>\n",
              "      <td>0.005412</td>\n",
              "      <td>2700000</td>\n",
              "      <td>0</td>\n",
              "      <td>ì§íŒ¨</td>\n",
              "      <td>Ahn Jae-mo|Ahn Gil-kang|Jeong Seok-yong|Lee Be...</td>\n",
              "      <td>NaN</td>\n",
              "      <td>Ryoo Seung-wan</td>\n",
              "      <td>NaN</td>\n",
              "      <td>revenge|organized crime|gore</td>\n",
              "      <td>Tae-su, a detective fighting organized crime, ...</td>\n",
              "      <td>92</td>\n",
              "      <td>Action|Thriller</td>\n",
              "      <td>Weyunaegang Productions</td>\n",
              "      <td>5/25/06</td>\n",
              "      <td>20</td>\n",
              "      <td>6.9</td>\n",
              "      <td>2006</td>\n",
              "      <td>2.920507e+06</td>\n",
              "      <td>0.000000e+00</td>\n",
              "    </tr>\n",
              "    <tr>\n",
              "      <th>6961</th>\n",
              "      <td>15412</td>\n",
              "      <td>tt0466460</td>\n",
              "      <td>0.001115</td>\n",
              "      <td>0</td>\n",
              "      <td>0</td>\n",
              "      <td>Khosla Ka Ghosla!</td>\n",
              "      <td>Anupam Kher|Boman Irani|Parvin Dabas|Tara Shar...</td>\n",
              "      <td>NaN</td>\n",
              "      <td>Dibakar Banerjee</td>\n",
              "      <td>A Delhi-based retired middle class man tries t...</td>\n",
              "      <td>bollywood</td>\n",
              "      <td>Upon retirement, cranky control freak Kamal Ki...</td>\n",
              "      <td>135</td>\n",
              "      <td>Comedy</td>\n",
              "      <td>UTV Motion Pictures</td>\n",
              "      <td>9/22/06</td>\n",
              "      <td>10</td>\n",
              "      <td>6.8</td>\n",
              "      <td>2006</td>\n",
              "      <td>0.000000e+00</td>\n",
              "      <td>0.000000e+00</td>\n",
              "    </tr>\n",
              "  </tbody>\n",
              "</table>\n",
              "<p>408 rows × 21 columns</p>\n",
              "</div>"
            ],
            "text/plain": [
              "         id    imdb_id  popularity  ...  release_year    budget_adj   revenue_adj\n",
              "6554    834  tt0401855    5.838503  ...          2006  5.408346e+07  1.204339e+08\n",
              "6555     58  tt0383574    4.205992  ...          2006  2.163338e+08  1.152691e+09\n",
              "6556    920  tt0317219    3.941265  ...          2006  1.298003e+08  4.997129e+08\n",
              "6557  36557  tt0381061    3.789580  ...          2006  1.622504e+08  6.479695e+08\n",
              "6558    591  tt0382625    3.655536  ...          2006  1.352086e+08  8.201647e+08\n",
              "...     ...        ...         ...  ...           ...           ...           ...\n",
              "6957    286  tt0853060    0.013578  ...          2006  0.000000e+00  0.000000e+00\n",
              "6958  33753  tt0457936    0.012132  ...          2006  0.000000e+00  0.000000e+00\n",
              "6959  24115  tt0462346    0.153217  ...          2006  0.000000e+00  1.408631e+07\n",
              "6960  20605  tt0821470    0.005412  ...          2006  2.920507e+06  0.000000e+00\n",
              "6961  15412  tt0466460    0.001115  ...          2006  0.000000e+00  0.000000e+00\n",
              "\n",
              "[408 rows x 21 columns]"
            ]
          },
          "metadata": {
            "tags": []
          },
          "execution_count": 77
        }
      ]
    },
    {
      "cell_type": "code",
      "metadata": {
        "id": "qqKg9Uega9uC",
        "colab": {
          "base_uri": "https://localhost:8080/",
          "height": 34
        },
        "outputId": "9b6cb3e5-d87a-4c87-ed17-45675c13997f"
      },
      "source": [
        "t=0\n",
        "b=releas_year['runtime'].values\n",
        "for i in range(0,len(b)):\n",
        "    t=t+b[i]\n",
        "print(\"Average runtime of movies in the year 2006 is: \",t/len(b))"
      ],
      "execution_count": null,
      "outputs": [
        {
          "output_type": "stream",
          "text": [
            "Average runtime of movies in the year 2006 is:  101.68382352941177\n"
          ],
          "name": "stdout"
        }
      ]
    },
    {
      "cell_type": "markdown",
      "metadata": {
        "id": "VlnlKVnPcTiW"
      },
      "source": [
        "Question 6-Name any 3 production companies which have invested money in worse revenue movies?"
      ]
    },
    {
      "cell_type": "markdown",
      "metadata": {
        "id": "AVIeKTSXYvAp"
      },
      "source": [
        "Ans-"
      ]
    },
    {
      "cell_type": "code",
      "metadata": {
        "id": "YrKcWkryRe7Z",
        "colab": {
          "base_uri": "https://localhost:8080/",
          "height": 417
        },
        "outputId": "289aba44-6517-4717-abcc-95c2dafe5794"
      },
      "source": [
        "p=df.nsmallest(3,'revenue')\n",
        "p"
      ],
      "execution_count": null,
      "outputs": [
        {
          "output_type": "execute_result",
          "data": {
            "text/html": [
              "<div>\n",
              "<style scoped>\n",
              "    .dataframe tbody tr th:only-of-type {\n",
              "        vertical-align: middle;\n",
              "    }\n",
              "\n",
              "    .dataframe tbody tr th {\n",
              "        vertical-align: top;\n",
              "    }\n",
              "\n",
              "    .dataframe thead th {\n",
              "        text-align: right;\n",
              "    }\n",
              "</style>\n",
              "<table border=\"1\" class=\"dataframe\">\n",
              "  <thead>\n",
              "    <tr style=\"text-align: right;\">\n",
              "      <th></th>\n",
              "      <th>id</th>\n",
              "      <th>imdb_id</th>\n",
              "      <th>popularity</th>\n",
              "      <th>budget</th>\n",
              "      <th>revenue</th>\n",
              "      <th>original_title</th>\n",
              "      <th>cast</th>\n",
              "      <th>homepage</th>\n",
              "      <th>director</th>\n",
              "      <th>tagline</th>\n",
              "      <th>keywords</th>\n",
              "      <th>overview</th>\n",
              "      <th>runtime</th>\n",
              "      <th>genres</th>\n",
              "      <th>production_companies</th>\n",
              "      <th>release_date</th>\n",
              "      <th>vote_count</th>\n",
              "      <th>vote_average</th>\n",
              "      <th>release_year</th>\n",
              "      <th>budget_adj</th>\n",
              "      <th>revenue_adj</th>\n",
              "    </tr>\n",
              "  </thead>\n",
              "  <tbody>\n",
              "    <tr>\n",
              "      <th>48</th>\n",
              "      <td>265208</td>\n",
              "      <td>tt2231253</td>\n",
              "      <td>2.932340</td>\n",
              "      <td>30000000</td>\n",
              "      <td>0</td>\n",
              "      <td>Wild Card</td>\n",
              "      <td>Jason Statham|Michael Angarano|Milo Ventimigli...</td>\n",
              "      <td>NaN</td>\n",
              "      <td>Simon West</td>\n",
              "      <td>Never bet against a man with a killer hand.</td>\n",
              "      <td>gambling|bodyguard|remake</td>\n",
              "      <td>When a Las Vegas bodyguard with lethal skills ...</td>\n",
              "      <td>92</td>\n",
              "      <td>Thriller|Crime|Drama</td>\n",
              "      <td>Current Entertainment|Lionsgate|Sierra / Affin...</td>\n",
              "      <td>1/14/15</td>\n",
              "      <td>481</td>\n",
              "      <td>5.3</td>\n",
              "      <td>2015</td>\n",
              "      <td>2.759999e+07</td>\n",
              "      <td>0.0</td>\n",
              "    </tr>\n",
              "    <tr>\n",
              "      <th>67</th>\n",
              "      <td>334074</td>\n",
              "      <td>tt3247714</td>\n",
              "      <td>2.331636</td>\n",
              "      <td>20000000</td>\n",
              "      <td>0</td>\n",
              "      <td>Survivor</td>\n",
              "      <td>Pierce Brosnan|Milla Jovovich|Dylan McDermott|...</td>\n",
              "      <td>http://survivormovie.com/</td>\n",
              "      <td>James McTeigue</td>\n",
              "      <td>His Next Target is Now Hunting Him</td>\n",
              "      <td>new year's eve|fire|showdown|terrorist|embassy</td>\n",
              "      <td>A Foreign Service Officer in London tries to p...</td>\n",
              "      <td>96</td>\n",
              "      <td>Crime|Thriller|Action</td>\n",
              "      <td>Nu Image Films|Winkler Films|Millennium Films|...</td>\n",
              "      <td>5/21/15</td>\n",
              "      <td>280</td>\n",
              "      <td>5.4</td>\n",
              "      <td>2015</td>\n",
              "      <td>1.839999e+07</td>\n",
              "      <td>0.0</td>\n",
              "    </tr>\n",
              "    <tr>\n",
              "      <th>74</th>\n",
              "      <td>347096</td>\n",
              "      <td>tt3478232</td>\n",
              "      <td>2.165433</td>\n",
              "      <td>0</td>\n",
              "      <td>0</td>\n",
              "      <td>Mythica: The Darkspore</td>\n",
              "      <td>Melanie Stone|Kevin Sorbo|Adam Johnson|Jake St...</td>\n",
              "      <td>http://www.mythicamovie.com/#!blank/wufvh</td>\n",
              "      <td>Anne K. Black</td>\n",
              "      <td>NaN</td>\n",
              "      <td>sword|magic|sorcery|necromancer|woman director</td>\n",
              "      <td>When Teelaâ€™s sister is murdered and a powerf...</td>\n",
              "      <td>108</td>\n",
              "      <td>Action|Adventure|Fantasy</td>\n",
              "      <td>Arrowstorm Entertainment</td>\n",
              "      <td>6/24/15</td>\n",
              "      <td>27</td>\n",
              "      <td>5.1</td>\n",
              "      <td>2015</td>\n",
              "      <td>0.000000e+00</td>\n",
              "      <td>0.0</td>\n",
              "    </tr>\n",
              "  </tbody>\n",
              "</table>\n",
              "</div>"
            ],
            "text/plain": [
              "        id    imdb_id  popularity  ...  release_year    budget_adj revenue_adj\n",
              "48  265208  tt2231253    2.932340  ...          2015  2.759999e+07         0.0\n",
              "67  334074  tt3247714    2.331636  ...          2015  1.839999e+07         0.0\n",
              "74  347096  tt3478232    2.165433  ...          2015  0.000000e+00         0.0\n",
              "\n",
              "[3 rows x 21 columns]"
            ]
          },
          "metadata": {
            "tags": []
          },
          "execution_count": 79
        }
      ]
    },
    {
      "cell_type": "code",
      "metadata": {
        "id": "WpcK4Lmmgbe3",
        "colab": {
          "base_uri": "https://localhost:8080/",
          "height": 136
        },
        "outputId": "fe1c6883-1968-4325-8a9f-70a00396dfd6"
      },
      "source": [
        "e=p['production_companies'].values\n",
        "print('Three production companies which have invested money in worse revenue movies are: ','\\n\\n1)',e[0],'\\n\\n2)',e[1],'\\n\\n3)',e[2])"
      ],
      "execution_count": null,
      "outputs": [
        {
          "output_type": "stream",
          "text": [
            "Three production companies which have invested money in worse revenue movies are:  \n",
            "\n",
            "1) Current Entertainment|Lionsgate|Sierra / Affinity|SJ Heat Productions|Silver State Production Services \n",
            "\n",
            "2) Nu Image Films|Winkler Films|Millennium Films|Survivor Productions \n",
            "\n",
            "3) Arrowstorm Entertainment\n"
          ],
          "name": "stdout"
        }
      ]
    }
  ]
}